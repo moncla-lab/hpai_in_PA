{
 "cells": [
  {
   "cell_type": "code",
   "execution_count": null,
   "id": "23a12fb3-7e03-4aa2-81a0-7e6125bc9c0d",
   "metadata": {},
   "outputs": [],
   "source": [
    "import os\n",
    "import pandas as pd\n",
    "import numpy as np\n"
   ]
  },
  {
   "cell_type": "code",
   "execution_count": null,
   "id": "a04a550a-8146-4fe6-9b68-3c092c953459",
   "metadata": {},
   "outputs": [],
   "source": [
    "# df1 = pd.read_csv('data_run5/all_samples_combined_annotated_varscan.tsv', sep = '\\t')\n",
    "# df2 = pd.read_csv('data_run6_2repsamples/all_samples_combined_annotated_varscan.tsv', sep = '\\t')\n",
    "# #concat annotaed varscans from 2 runs \n",
    "# vars = pd.concat([df1, df2], ignore_index=True)\n",
    "vars = pd.read_csv('../hpai_PA/seq/stock_controls/data_3/variants.tsv', sep = '\\t')\n"
   ]
  },
  {
   "cell_type": "code",
   "execution_count": null,
   "id": "3fd28457-7fbf-4014-9a9a-23966f4ff280",
   "metadata": {},
   "outputs": [],
   "source": [
    "vars"
   ]
  },
  {
   "cell_type": "code",
   "execution_count": null,
   "id": "382daf5a-3b5a-46b1-af5b-3477ab90f44a",
   "metadata": {},
   "outputs": [],
   "source": [
    "#input gene for NA which got misread as an Nan\n",
    "\n",
    "vars.loc[vars['segment'] == 'na', 'gene'] = 'NA'\n"
   ]
  },
  {
   "cell_type": "code",
   "execution_count": null,
   "id": "a6ab0866-2db3-433a-ae8b-822949461438",
   "metadata": {},
   "outputs": [],
   "source": [
    "vars['amino_acid'] = vars['coding_region_change'].str.extract('(\\d+)')\n"
   ]
  },
  {
   "cell_type": "code",
   "execution_count": null,
   "id": "36d9f75e-e7d0-4f93-8e64-408d8f435fe5",
   "metadata": {},
   "outputs": [],
   "source": [
    "vars"
   ]
  },
  {
   "cell_type": "code",
   "execution_count": null,
   "id": "146b6462-887a-42fd-87ba-fe078c01f7a3",
   "metadata": {},
   "outputs": [],
   "source": [
    "# #make merged column for gene and its position\n",
    "vars['gene_pos'] = vars['gene'] + \"_\" + vars['amino_acid'].astype(str)\n"
   ]
  },
  {
   "cell_type": "code",
   "execution_count": null,
   "id": "81287124-ed26-4674-a2ee-5b58fd2e2a66",
   "metadata": {},
   "outputs": [],
   "source": [
    "vars['sample_var'] = vars['sample'] + \"_\" + vars['gene_pos'].astype(str)\n"
   ]
  },
  {
   "cell_type": "code",
   "execution_count": null,
   "id": "f9a68820-ac0e-4693-b7c1-78bab3aea8e4",
   "metadata": {},
   "outputs": [],
   "source": [
    "vars['syn_non'] = vars['coding_region_change'].apply(\n",
    "    lambda x: 'synonymous' if x[:3] == x[-3:] else 'nonsynonymous'\n",
    ")\n",
    "vars"
   ]
  },
  {
   "cell_type": "code",
   "execution_count": null,
   "id": "0c07f98b-e444-428b-b105-855fd8c72893",
   "metadata": {},
   "outputs": [],
   "source": [
    "import seaborn as sns \n",
    "import matplotlib as mpl\n",
    "import matplotlib.pyplot as plt\n",
    "import matplotlib.ticker as tkr\n",
    "\n",
    "plt.rc('font',**{'family':'sans-serif','sans-serif':['Arial']})\n",
    "plt.rc('text', usetex='false') \n",
    "plt.rcParams.update({'font.size': 18})\n",
    "plt.figure(figsize=(8, 8))  # Adjust figure size\n",
    "\n",
    "fig, ax = plt.subplots()\n",
    "\n",
    "sns.scatterplot(data=vars, x=\"Frequency_1\", y=\"Frequency_2\", s=60, alpha=.5, hue='sample', palette='colorblind')\n",
    "plt.ylim(0, 0.2)\n",
    "plt.xlim(0, 0.2)\n",
    "plt.title('Stock controls Rep1 vs. Rep 2 SNV frequencies', y=1.05, fontsize=18)\n",
    "plt.legend(loc='best', fontsize=12)\n",
    "ax.set(xlabel='Rep 1 Frequency', ylabel='Rep 2 Frequency')\n",
    "\n",
    "\n",
    "# # Format y-axis to show integers\n",
    "# fmtr = tkr.StrMethodFormatter('{x:.1f}')\n",
    "# ax.xaxis.set_major_formatter(fmtr)\n",
    "# ax.yaxis.set_major_formatter(fmtr)"
   ]
  },
  {
   "cell_type": "code",
   "execution_count": null,
   "id": "a8346e76-fa3a-4961-9746-75281f83d2c0",
   "metadata": {},
   "outputs": [],
   "source": [
    "vars['rep_shared'] = np.where(\n",
    "    (vars['Frequency_1'].fillna(0) > 0) & (vars['Frequency_2'].fillna(0) > 0),\n",
    "    'shared',\n",
    "    'single'\n",
    ")\n",
    "# vars"
   ]
  },
  {
   "cell_type": "code",
   "execution_count": null,
   "id": "72394d8c-5ee1-444f-9e48-937db1c97bd0",
   "metadata": {},
   "outputs": [],
   "source": [
    "vars['rep_shared'].value_counts()\n"
   ]
  },
  {
   "cell_type": "code",
   "execution_count": null,
   "id": "181e978c-c94d-445c-b9ce-3631ede72fe2",
   "metadata": {},
   "outputs": [],
   "source": []
  },
  {
   "cell_type": "code",
   "execution_count": null,
   "id": "a0a8c38a-57c5-488f-b0e9-40984a888218",
   "metadata": {},
   "outputs": [],
   "source": [
    "# Hierarchical sorting by 'Category' (ascending) and then 'Value' (descending)\n",
    "# vars_sorted = vars.sort_values(by=['Category', 'Value'], ascending=[True, False])\n",
    "vars_sorted = vars.sort_values(by=['sample', 'gene', 'position'], ascending=[False, True, True])\n",
    "vars_sorted.tail(15)"
   ]
  },
  {
   "cell_type": "code",
   "execution_count": null,
   "id": "82b0c0d3-6c5a-40ce-95f8-107532b90943",
   "metadata": {},
   "outputs": [],
   "source": [
    "\n",
    "\n",
    "result = vars.groupby('gene')['rep_shared'].value_counts()\n",
    "result"
   ]
  },
  {
   "cell_type": "code",
   "execution_count": null,
   "id": "d697b270-b9bc-4e8f-a08c-6691d0f8dff1",
   "metadata": {},
   "outputs": [],
   "source": [
    "vars['rep_shared'].value_counts()\n"
   ]
  },
  {
   "cell_type": "code",
   "execution_count": null,
   "id": "216e7273-d189-4391-8595-cadbfb72ffbc",
   "metadata": {},
   "outputs": [],
   "source": [
    "import pandas as pd\n",
    "import matplotlib.pyplot as plt\n",
    "import seaborn as sns\n",
    "\n",
    "\n",
    "# Group by 'gene' and count unique values in 'rep_shared'\n",
    "result = vars.groupby('gene')['rep_shared'].value_counts().reset_index(name='count')\n",
    "\n",
    "# Create a bar plot using seaborn\n",
    "plt.figure(figsize=(8, 6))\n",
    "sns.barplot(data=result, x='gene', y='count', hue='rep_shared', palette='viridis')\n",
    "\n",
    "# Add labels and title\n",
    "plt.xlabel('Gene', fontsize=12)\n",
    "plt.ylabel('Count', fontsize=12)\n",
    "plt.title('Shared vs. Single Rep Counts by Gene', fontsize=14)\n",
    "plt.legend(title='Rep Shared', fontsize=10)\n",
    "plt.xticks(fontsize=10)\n",
    "plt.yticks(fontsize=10)\n",
    "\n",
    "# Show the plot\n",
    "plt.tight_layout()\n",
    "plt.show()\n",
    "# plt.savefig(\"seq/analysis/figures/shared_vs_singlerep_countsbygene.pdf\", bbox_inches='tight', dpi=300)\n"
   ]
  },
  {
   "cell_type": "code",
   "execution_count": null,
   "id": "b4bc9ecb-b46e-45f6-a424-02a03cf34845",
   "metadata": {},
   "outputs": [],
   "source": [
    "# Create box plot with individual data points\n",
    "plt.figure(figsize=(8, 6))\n",
    "sns.boxplot(x='rep_shared', y='Frequency_1', data=vars, width=0.5, showfliers=False)  # Box plot\n",
    "sns.stripplot(x='rep_shared', y='Frequency_1', data=vars, jitter=True, color='black', alpha=0.7)  # Individual points\n",
    "\n",
    "# Customize plot\n",
    "plt.xlabel(\"Group (Shared vs Single Rep Variant1)\")\n",
    "plt.ylabel(\"Frequency1\")\n",
    "plt.title(\"Box Plot of Frequency by Shared/Single\")\n",
    "plt.grid(True, linestyle=\"--\", alpha=0.5)\n",
    "# plt.yscale('logit')\n",
    "plt.ylim(0, 0.5)\n",
    "\n",
    "# Show plot\n",
    "plt.show()"
   ]
  },
  {
   "cell_type": "code",
   "execution_count": null,
   "id": "342656f2-b653-497b-b557-6102742cd183",
   "metadata": {},
   "outputs": [],
   "source": [
    "import scipy.stats as stats\n",
    "\n",
    "# Calculate means\n",
    "vars = vars.dropna(subset=[\"Frequency_1\"])\n",
    "\n",
    "means = vars.groupby(\"rep_shared\")[\"Frequency_1\"].mean()\n",
    "print(\"Mean Frequency1 by Group:\")\n",
    "print(means)\n",
    "\n",
    "# Perform independent t-test\n",
    "shared = vars[vars[\"rep_shared\"] == \"shared\"][\"rep_shared\"]\n",
    "single = vars[vars[\"rep_shared\"] == \"single\"][\"rep_shared\"]\n",
    "\n",
    "# t_stat, p_value = stats.ttest_ind(shared, single, equal_var=False)  # Welch's t-test (better for unequal variances)\n",
    "\n",
    "# # Display results\n",
    "# print(f\"\\nT-test results:\\nT-statistic = {t_stat:.4f}, P-value = {p_value:.4e}\")\n"
   ]
  },
  {
   "cell_type": "code",
   "execution_count": null,
   "id": "7747dfbd-606d-40ad-87e3-a556cd95cab7",
   "metadata": {},
   "outputs": [],
   "source": [
    "# Calculate means\n",
    "vars = vars.dropna(subset=[\"Frequency_2\"])\n",
    "\n",
    "means = vars.groupby(\"rep_shared\")[\"Frequency_2\"].mean()\n",
    "print(\"Mean Frequency2 by Group:\")\n",
    "print(means)\n",
    "\n",
    "# Perform independent t-test\n",
    "shared = vars[vars[\"rep_shared\"] == \"shared\"][\"rep_shared\"]\n",
    "single = vars[vars[\"rep_shared\"] == \"single\"][\"rep_shared\"]"
   ]
  },
  {
   "cell_type": "code",
   "execution_count": null,
   "id": "1c7d646f-b454-4ecc-a7c5-2dbabda94493",
   "metadata": {},
   "outputs": [],
   "source": [
    "(0.088669+0.086815)/2"
   ]
  },
  {
   "cell_type": "code",
   "execution_count": null,
   "id": "ad26801c-c664-4566-a0bf-e1481a02b266",
   "metadata": {},
   "outputs": [],
   "source": [
    "(0.012460+0.028483)/2"
   ]
  },
  {
   "cell_type": "code",
   "execution_count": null,
   "id": "9babf60c-e7a4-4d45-a5f2-9fabedc3d772",
   "metadata": {},
   "outputs": [],
   "source": [
    "vars.columns"
   ]
  },
  {
   "cell_type": "code",
   "execution_count": null,
   "id": "12c59bce-0cc1-408f-98f8-7f835a25bbfb",
   "metadata": {},
   "outputs": [],
   "source": [
    "single_rep_vars = vars[vars['rep_shared'] == 'single']"
   ]
  },
  {
   "cell_type": "code",
   "execution_count": null,
   "id": "0b7fe7e9-90d2-4ee5-aece-e7a4e62f8864",
   "metadata": {},
   "outputs": [],
   "source": [
    "# single_rep_vars['avg_freq'] = single_rep_vars['frequency']\n",
    "single_rep_vars['avg_freq'] = single_rep_vars['Frequency_1'] + single_rep_vars['Frequency_2']\n",
    "\n",
    "single_rep_vars"
   ]
  },
  {
   "cell_type": "code",
   "execution_count": null,
   "id": "d2fff1b6-c1e9-49af-b8b6-3ab86592cb57",
   "metadata": {},
   "outputs": [],
   "source": [
    "shared_vars = vars[vars['rep_shared'] == 'shared']\n",
    "# shared_vars = shared_vars.sort_values(by=['sample_ID', 'gene', 'reference_position'], ascending=[True, True, True])\n",
    "shared_vars['avg_freq'] = shared_vars[['Frequency_1', 'Frequency_2']].mean(axis=1)\n",
    "\n",
    "shared_vars"
   ]
  },
  {
   "cell_type": "code",
   "execution_count": null,
   "id": "546b3386-d748-47c2-b781-979fe2ae3d35",
   "metadata": {},
   "outputs": [],
   "source": [
    "##since i needed to get avg vars differently for single and shared, did that now will concat together for big vars df\n",
    "vars = pd.concat([single_rep_vars, shared_vars], ignore_index=True)\n",
    "vars"
   ]
  },
  {
   "cell_type": "code",
   "execution_count": null,
   "id": "acdb77c6-7773-40c3-b862-0a36a092399a",
   "metadata": {},
   "outputs": [],
   "source": [
    "# Example bin edges\n",
    "bins = [0.01, 0.02, 0.03, 0.04, 0.05, 0.1, float('inf')]\n",
    "labels = ['0.01–0.02', '0.02–0.03', '0.03–0.04', '0.04–0.05', '0.05–0.1', '>0.1']\n",
    "vars['freq_bin'] = pd.cut(vars['avg_freq'], bins=bins, labels=labels, right=False)\n",
    "\n",
    "# Count occurrences of each category in each bin\n",
    "grouped = vars.groupby(['freq_bin', 'rep_shared']).size().reset_index(name='count')\n",
    "\n",
    "# Normalize within each bin\n",
    "grouped['proportion'] = grouped.groupby('freq_bin')['count'].transform(lambda x: x / x.sum())\n",
    "\n",
    "# plt.figure(figsize=(8, 6))\n",
    "# sns.barplot(data=grouped, x='freq_bin', y='proportion', hue='rep_shared')\n",
    "\n",
    "# plt.xlabel('Average Frequency Bin')\n",
    "# plt.ylabel('Proportion')\n",
    "# plt.title('Proportion of Single vs Shared SNVs by Frequency Bin')\n",
    "# plt.legend(title='SNV Type')\n",
    "# plt.tight_layout()\n",
    "# plt.show()\n",
    "\n",
    "# Pivot data for stacked bar chart\n",
    "pivot_df = grouped.pivot(index='freq_bin', columns='rep_shared', values='proportion').fillna(0)\n",
    "\n",
    "# Plot\n",
    "pivot_df.plot(kind='bar', stacked=True, figsize=(8, 6), colormap='Set2')\n",
    "\n",
    "plt.xlabel('Average Frequency Bin')\n",
    "plt.ylabel('Proportion')\n",
    "plt.title('Stacked Proportions of Single vs Shared SNVs')\n",
    "plt.legend(title='SNV Type')\n",
    "plt.tight_layout()\n",
    "plt.show()\n"
   ]
  },
  {
   "cell_type": "code",
   "execution_count": null,
   "id": "0cd8795f-85dc-4fde-b4c9-10cee5d62fa4",
   "metadata": {},
   "outputs": [],
   "source": [
    "freq1 = vars.drop(columns=['Frequency_2'])\n",
    "freq1 = freq1[freq1['Frequency_1'] != 0]\n",
    "\n",
    "freq2 = vars.drop(columns=['Frequency_1'])\n",
    "freq2 = freq2[freq2['Frequency_2'] != 0]\n",
    "\n",
    "freq1 = freq1.rename(columns={'Frequency_1': 'Frequency'})\n",
    "freq2 = freq2.rename(columns={'Frequency_2': 'Frequency'})\n"
   ]
  },
  {
   "cell_type": "code",
   "execution_count": null,
   "id": "bbb5a820-5574-424a-917f-6a2aecb2aa3c",
   "metadata": {},
   "outputs": [],
   "source": [
    "# freq_stacked = pd.concat([freq1, freq2], axis=0)\n",
    "freq_stacked = freq_stacked.drop('freq_bin', axis=1)\n",
    "\n",
    "freq_stacked"
   ]
  },
  {
   "cell_type": "code",
   "execution_count": null,
   "id": "fb33da8b-b4ab-4c6d-8f0f-d320279d7e7b",
   "metadata": {},
   "outputs": [],
   "source": [
    "# Example bin edges\n",
    "bins = [0.01, 0.015, 0.02, 0.025, 0.03, 0.04, 0.05, 0.1, float('inf')]\n",
    "labels = ['1-1.5%', '1.5-2%', '2-2.5%','2.5-3%', '3-4%', '4-5%', '5-10%', '>10%']\n",
    "freq_stacked['freq_bin'] = pd.cut(freq_stacked['Frequency'], bins=bins, labels=labels, right=False)\n",
    "\n",
    "# Count occurrences of each category in each bin\n",
    "grouped = freq_stacked.groupby(['freq_bin', 'rep_shared']).size().reset_index(name='count')\n",
    "\n",
    "# Normalize within each bin\n",
    "grouped['proportion'] = grouped.groupby('freq_bin')['count'].transform(lambda x: x / x.sum())\n",
    "\n",
    "# Pivot data for stacked bar chart\n",
    "pivot_df = grouped.pivot(index='freq_bin', columns='rep_shared', values='proportion').fillna(0)\n",
    "\n",
    "# Plot\n",
    "pivot_df.plot(kind='bar', stacked=True, figsize=(8, 6), colormap='Set2')\n",
    "\n",
    "plt.axhline(y=0.5, color='r', linestyle='--', label='y = 50%')\n",
    "\n",
    "\n",
    "plt.xlabel('Frequency (binned, %)')\n",
    "plt.ylabel('Proportion')\n",
    "plt.title('Stacked Proportions of Single vs Shared SNVs')\n",
    "plt.legend(title='SNV Type', loc='upper right')\n",
    "plt.tight_layout()\n",
    "plt.show()\n"
   ]
  },
  {
   "cell_type": "code",
   "execution_count": null,
   "id": "66aae6ab-ffb0-4d4f-afc7-1fc98a02638f",
   "metadata": {},
   "outputs": [],
   "source": []
  },
  {
   "cell_type": "code",
   "execution_count": null,
   "id": "c4a1ed97-0b68-4e58-8822-99f2823cbb7a",
   "metadata": {},
   "outputs": [],
   "source": [
    "freq_stacked['freq_bin'].value_counts()"
   ]
  },
  {
   "cell_type": "code",
   "execution_count": null,
   "id": "65d6a15a-0d42-4c15-979f-90bc76031647",
   "metadata": {},
   "outputs": [],
   "source": [
    "vars['sample_var'] = vars['sample'] + \"_\" + vars['gene_pos'].astype(str)\n",
    "vars.info()"
   ]
  },
  {
   "cell_type": "code",
   "execution_count": null,
   "id": "9a454ccd-5223-4b72-a59f-e19c44037497",
   "metadata": {},
   "outputs": [],
   "source": [
    "import plotly.express as px\n",
    "\n",
    "# Scatter plot of rep1_freq vs rep2_freq\n",
    "fig = px.scatter(vars, \n",
    "                 x=\"Frequency_1\", \n",
    "                 y=\"Frequency_2\", \n",
    "                 title=\"Rep1 Frequency vs Rep2 Frequency for all SNVs, stock controls\",\n",
    "                 labels={\"Frequency_1\": \"Rep 1 SNV Frequency\", \"Frequency_2\": \"Rep 2 SNV Frequency\"},\n",
    "                 opacity=0.5,\n",
    "                 hover_data=[\"sample_var\"])\n",
    "\n",
    "fig.update_layout(\n",
    "    width=600,  # Set width\n",
    "    height=600,  # Set height (same as width for square shape)\n",
    "    xaxis=dict(scaleanchor=\"y\")  # Ensures 1:1 aspect ratio\n",
    ")\n",
    "\n",
    "# Show the plot\n",
    "fig.show()\n",
    "# fig.savefig(\"seq/analysis/figures/rep1_rep2_freq_SNVs.pdf\", bbox_inches='tight', dpi=300)\n",
    "# fig.write_image(\"seq/analysis/figures/rep1_rep2_freq_SNVs.pdf\")"
   ]
  },
  {
   "cell_type": "code",
   "execution_count": null,
   "id": "831a7edb-aa44-4e58-9edd-d8f77851033e",
   "metadata": {},
   "outputs": [],
   "source": [
    "import plotly.express as px\n",
    "\n",
    "# Scatter plot of rep1_freq vs rep2_freq\n",
    "fig = px.scatter(vars, \n",
    "                 x=\"Frequency_1\", \n",
    "                 y=\"Frequency_2\", \n",
    "                 title=\"Rep1 Frequency vs Rep2 Frequency for all SNVs, stock controls\",\n",
    "                 labels={\"Frequency_1\": \"Rep 1 SNV Frequency\", \"Frequency_2\": \"Rep 2 SNV Frequency\"},\n",
    "                 opacity=0.5)\n",
    "\n",
    "fig.update_layout(\n",
    "    width=600,  # Set width\n",
    "    height=600,  # Set height (same as width for square shape)\n",
    "    xaxis=dict(scaleanchor=\"y\")  # Ensures 1:1 aspect ratio\n",
    ")\n",
    "\n",
    "# Show the plot\n",
    "fig.show()"
   ]
  },
  {
   "cell_type": "code",
   "execution_count": null,
   "id": "2af9d355-8742-4575-abf8-a8b1780c9ad5",
   "metadata": {},
   "outputs": [],
   "source": [
    "import plotly.express as px\n",
    "\n",
    "# Scatter plot of rep1_freq vs rep2_freq\n",
    "fig = px.scatter(shared_vars, \n",
    "                 x=\"Frequency_1\", \n",
    "                 y=\"Frequency_2\", \n",
    "                 title=\"Rep1 Frequency vs Rep2 Frequency for shared SNVs <15%\",\n",
    "                 labels={\"Frequency_1\": \"Rep 1 SNV Frequency\", \"Frequency_2\": \"Rep 2 SNV Frequency\"},\n",
    "                 opacity=0.5,\n",
    "                 hover_data=[\"sample_var\"])\n",
    "\n",
    "# Define axis limits\n",
    "x_min, x_max = 0, 0.15  # Adjust as needed\n",
    "y_min, y_max = 0, 0.15  # Adjust as needed\n",
    "\n",
    "# Make the plot square and set axis limits\n",
    "fig.update_layout(\n",
    "    width=600,  \n",
    "    height=600,  \n",
    "    xaxis=dict(scaleanchor=\"y\", range=[x_min, x_max]),  \n",
    "    yaxis=dict(range=[y_min, y_max])\n",
    ")\n",
    "\n",
    "# Show the plot\n",
    "fig.show()\n"
   ]
  },
  {
   "cell_type": "code",
   "execution_count": null,
   "id": "1c18f46a-aa04-4642-8bf3-736813c226e3",
   "metadata": {},
   "outputs": [],
   "source": [
    "valcts_sampleIDs = single_rep_vars['sample'].value_counts()\n",
    "print(valcts_sampleIDs)"
   ]
  },
  {
   "cell_type": "code",
   "execution_count": null,
   "id": "2f0537ac-d6c9-48dc-88a8-a9cb3683e1a6",
   "metadata": {},
   "outputs": [],
   "source": [
    "# Define your mapping from col_id to ct values\n",
    "col_id_to_ct = {\n",
    "    'h5_stock1': 13.52,\n",
    "    'h5_stock2': 17.21,\n",
    "    'h5_stock3': 21.19,  # Add as many as you need\n",
    "    'h5_stock4': 26.96,\n",
    "    'h5_stock5': 31.49\n",
    "}\n",
    "\n",
    "# Create the new column using .map()\n",
    "vars['ct_value'] = vars['sample'].map(col_id_to_ct)\n",
    "vars"
   ]
  },
  {
   "cell_type": "code",
   "execution_count": null,
   "id": "4af50c9c-e152-4b0f-bc04-7b04c35b6527",
   "metadata": {},
   "outputs": [],
   "source": [
    "import plotly.express as px\n",
    "\n",
    "fig = px.scatter(vars, \n",
    "                 x=\"ct_value\", \n",
    "                 y=\"avg_freq\", \n",
    "                 color=\"rep_shared\", \n",
    "                 title=\"CT-Value vs Frequency Colored by Shared\",\n",
    "                 labels={\"ct_value\": \"CT Value\", \"avg_freq\": \"Frequency\"},\n",
    "                 opacity=0.3)  # Adjust transparency for better visibility\n",
    "\n",
    "fig.show()\n"
   ]
  },
  {
   "cell_type": "code",
   "execution_count": null,
   "id": "5903e25e-7381-4f91-8094-aeed2a80eb9d",
   "metadata": {},
   "outputs": [],
   "source": [
    "import plotly.express as px\n",
    "\n",
    "fig = px.scatter(vars, \n",
    "                 y=\"ct_value\", \n",
    "                 x=\"avg_freq\", \n",
    "                 color=\"rep_shared\",  # Colors by 'rep_shared'\n",
    "                 trendline=\"ols\",      # Adds a trend line for each group\n",
    "                 title=\"CT-Value vs Frequency (Trend Lines for Each Group)\",\n",
    "                 labels={\"ct_value\": \"CT Value\", \"avg_freq\": \"Frequency\"},\n",
    "                 opacity=0.3)\n",
    "\n",
    "fig.show()\n"
   ]
  },
  {
   "cell_type": "code",
   "execution_count": null,
   "id": "cea7654b-f2a3-4244-a973-527be2eeea5c",
   "metadata": {},
   "outputs": [],
   "source": [
    "import plotly.express as px\n",
    "\n",
    "# Count number of variants for each CT value and rep_shared group\n",
    "variant_counts = vars.groupby([\"ct_value\", \"rep_shared\"]).size().reset_index(name=\"variant_count\")\n",
    "\n",
    "# Scatter plot with trend line\n",
    "fig = px.scatter(variant_counts, \n",
    "                 x=\"ct_value\", \n",
    "                 y=\"variant_count\",  # Now plotting count of variants\n",
    "                 color=\"rep_shared\",  \n",
    "                 trendline=\"ols\",    \n",
    "                 title=\"CT-Value vs Variant Count (OLS Trend Lines for Each Group)\",\n",
    "                 labels={\"ct_value\": \"Ct-Value\", \"variant_count\": \"Number of Variants\"},\n",
    "                 opacity=0.5)\n",
    "\n",
    "fig.show()\n"
   ]
  },
  {
   "cell_type": "code",
   "execution_count": null,
   "id": "153d42de-b384-49f0-8e51-4bcc3bbd1370",
   "metadata": {},
   "outputs": [],
   "source": [
    "# fig = px.scatter(shared_vars, \n",
    "#                  x=\"ct_value\", \n",
    "#                  y=\"avg_freq\", \n",
    "#                  color=\"rep_shared\", \n",
    "#                  title=\"CT-Value vs Frequency Colored by Shared\",\n",
    "#                  labels={\"ct-value\": \"CT Value\", \"frequency\": \"Frequency\"},\n",
    "#                  opacity=0.3)  # Adjust transparency for better visibility\n",
    "\n",
    "# fig.show()\n",
    "import plotly.express as px\n",
    "\n",
    "fig = px.scatter(vars, \n",
    "                 x=\"ct_value\", \n",
    "                 y=\"avg_freq\", \n",
    "                 color=\"rep_shared\", \n",
    "                 trendline=\"ols\",  # Ordinary Least Squares (Linear Regression)\n",
    "                 title=\"CT-Value vs Frequency Colored by Shared\",\n",
    "                 labels={\"ct_value\": \"CT Value\", \"avg_freq\": \"Frequency\"},\n",
    "                 opacity=0.3)\n",
    "\n",
    "fig.show()\n"
   ]
  },
  {
   "cell_type": "code",
   "execution_count": null,
   "id": "48b74d3f-129a-474b-9b60-861a34aa1596",
   "metadata": {},
   "outputs": [],
   "source": [
    "fig = px.scatter(vars, \n",
    "                 x=\"ct_value\", \n",
    "                 y=\"avg_freq\", \n",
    "                 color=\"rep_shared\", \n",
    "                 trendline=\"ols\",  # Ordinary Least Squares (Linear Regression)\n",
    "                 title=\"CT-Value vs Frequency Colored by Shared\",\n",
    "                 labels={\"ct_value\": \"CT Value\", \"avg_freq\": \"Frequency\"},\n",
    "                 opacity=0.3)\n",
    "\n",
    "fig.show()"
   ]
  },
  {
   "cell_type": "code",
   "execution_count": null,
   "id": "28619e99-78e5-48e1-873f-299245175a70",
   "metadata": {},
   "outputs": [],
   "source": [
    "# define colors \n",
    "\n",
    "# blue/red scheme 1 (desaturated)\n",
    "dom_color = \"#C75643\"\n",
    "wild_color = \"#545AB7\"\n",
    "\n",
    "\n",
    "# blue/red scheme 1 (desaturated)\n",
    "dom_nonsyn_color = \"#545AB7\"\n",
    "dom_syn_color = \"#98B4DA\"\n",
    "wild_nonsyn_color = \"#C75643\"\n",
    "wild_syn_color = \"#E6B692\""
   ]
  },
  {
   "cell_type": "code",
   "execution_count": null,
   "id": "d3cf4e69-8b49-42e3-ad8b-43c346f9defa",
   "metadata": {},
   "outputs": [],
   "source": [
    "# shared_vars['color'] = shared_vars['dom_status'] + \"_\" + shared_vars['synonymous/nonsynonymous']\n",
    "# shared_vars.head()"
   ]
  },
  {
   "cell_type": "code",
   "execution_count": null,
   "id": "6aa33e9b-1f04-4b3a-adaf-b61d74d43fa1",
   "metadata": {},
   "outputs": [],
   "source": []
  },
  {
   "cell_type": "code",
   "execution_count": null,
   "id": "e3aeca53-4022-43c2-8cee-7e4f108fc3ed",
   "metadata": {},
   "outputs": [],
   "source": [
    "# Count occurrences of each sample_ID\n",
    "sample_counts = single_rep_vars['sample_ID'].value_counts().reset_index()\n",
    "sample_counts.columns = ['sample_ID', 'count']\n",
    "\n",
    "# Merge with Ct values (assuming each sample_ID has a unique Ct value)\n",
    "merged_df = single_rep_vars[['sample_ID', 'ct_value']].drop_duplicates().merge(sample_counts, on='sample_ID')\n",
    "\n",
    "# Scatter plot\n",
    "plt.figure(figsize=(8, 6))\n",
    "\n",
    "sns.regplot(data=merged_df, x='ct_value', y='count', scatter_kws={'s': 50}, line_kws={'color': 'red'})\n",
    "\n",
    "sns.scatterplot(data=merged_df, x='ct_value', y='count')\n",
    "\n",
    "\n",
    "# Labels and title\n",
    "plt.xlabel('Ct Value')\n",
    "plt.ylabel('SNVs per sample')\n",
    "plt.title('Ct Value vs. Sample Count, SINGLE REP SNVs')\n",
    "\n",
    "\n",
    "plt.show()\n"
   ]
  },
  {
   "cell_type": "code",
   "execution_count": null,
   "id": "ef94b58e-ff58-4d11-8475-038f30c42179",
   "metadata": {},
   "outputs": [],
   "source": [
    "# Group by sample_ID and rep_shared to count SNVs\n",
    "rep_counts = vars.groupby(['sample', 'rep_shared']).size().reset_index(name='count')\n",
    "\n",
    "# Merge in Ct values (assuming unique per sample_ID)\n",
    "sample_metadata = vars[['sample', 'ct_value']].drop_duplicates()\n",
    "rep_counts = rep_counts.merge(sample_metadata, on='sample')\n",
    "\n",
    "\n",
    "plt.figure(figsize=(8, 6))\n",
    "\n",
    "# Scatterplot and regression per group\n",
    "sns.scatterplot(data=rep_counts, x='ct_value', y='count', hue='rep_shared', style='rep_shared', s=60)\n",
    "sns.regplot(data=rep_counts[rep_counts['rep_shared'] == 'single'], \n",
    "            x='ct_value', y='count', scatter=False, label='single, linear reg', color='orange')\n",
    "sns.regplot(data=rep_counts[rep_counts['rep_shared'] == 'shared'], \n",
    "            x='ct_value', y='count', scatter=False, label='shared, linear reg', color='blue')\n",
    "\n",
    "# Labels and formatting\n",
    "plt.xlabel('Ct Value')\n",
    "plt.ylabel('SNV Count per Sample')\n",
    "plt.title('Ct Value vs SNV Count (Shared vs Single rep SNV)')\n",
    "plt.ylim(1,325)\n",
    "plt.legend(title='Rep Shared')\n",
    "plt.tight_layout()\n",
    "\n",
    "# plt.savefig(\"seq/analysis/figures/ctval_snvcount_regress.pdf\", bbox_inches='tight', dpi=300)\n",
    "plt.show()\n"
   ]
  },
  {
   "cell_type": "code",
   "execution_count": null,
   "id": "56b28151-9a65-41aa-9e6f-96d301d34b5c",
   "metadata": {},
   "outputs": [],
   "source": [
    "vars['gene_pos_nt'] = vars['gene'] + \"_\" + vars['position'].astype(str)\n",
    "vars.head(5)"
   ]
  },
  {
   "cell_type": "code",
   "execution_count": null,
   "id": "514895c0-7a51-401f-b964-99f5f0b88d4d",
   "metadata": {},
   "outputs": [],
   "source": [
    "shared_vars.columns"
   ]
  },
  {
   "cell_type": "code",
   "execution_count": null,
   "id": "e5964422-0d46-4d20-9d8f-4da65f631449",
   "metadata": {},
   "outputs": [],
   "source": [
    "shared_vars['gene_pos_nt'] = shared_vars['gene'] + \"_\" + shared_vars['position'].astype(str)\n",
    "shared_vars.head(5)"
   ]
  },
  {
   "cell_type": "code",
   "execution_count": null,
   "id": "af0607a9-7ab3-4ee3-a37b-3bb3103c3169",
   "metadata": {},
   "outputs": [],
   "source": [
    "single_rep_vars"
   ]
  },
  {
   "cell_type": "code",
   "execution_count": null,
   "id": "e77ba43d-b356-4827-8e57-3039023f0d44",
   "metadata": {},
   "outputs": [],
   "source": [
    "print(shared_vars.columns)\n"
   ]
  },
  {
   "cell_type": "code",
   "execution_count": null,
   "id": "89ffe6ae-7f18-4539-92d9-7971b9a3b6bb",
   "metadata": {},
   "outputs": [],
   "source": [
    "# Group by 'sample_ID' and 'gene' and count unique values in 'synonymous/nonsynonymous'\n",
    "syn_nonsyn_counts = shared_vars.groupby(['sample', 'gene'])['syn_non'].value_counts().unstack(fill_value=0)\n",
    "\n",
    "# Optionally, reset index to make it easier to work with\n",
    "syn_nonsyn_counts = syn_nonsyn_counts.reset_index()\n",
    "\n",
    "# Print or export the result\n",
    "syn_nonsyn_counts\n"
   ]
  },
  {
   "cell_type": "code",
   "execution_count": null,
   "id": "d78907b4-e504-444f-a477-9ec341edff40",
   "metadata": {},
   "outputs": [],
   "source": [
    "# Group by 'sample_ID' and 'gene' and count unique values in 'synonymous/nonsynonymous'\n",
    "syn_nonsyn_counts = shared_vars.groupby(['sample_ID'])['syn_non'].value_counts().unstack(fill_value=0)\n",
    "\n",
    "# Optionally, reset index to make it easier to work with\n",
    "total_syn_nonsyn_counts = syn_nonsyn_counts.reset_index()\n",
    "total_syn_nonsyn_counts = total_syn_nonsyn_counts.rename_axis(None, axis=1).reset_index()\n",
    "\n",
    "total_syn_nonsyn_counts = total_syn_nonsyn_counts.drop(columns=['index'])\n",
    "\n",
    "# Print or export the result\n",
    "total_syn_nonsyn_counts.info()\n"
   ]
  },
  {
   "cell_type": "code",
   "execution_count": null,
   "id": "ad4aa234-f123-436d-a4d3-370322b6ce10",
   "metadata": {},
   "outputs": [],
   "source": [
    "total_syn_nonsyn_counts"
   ]
  },
  {
   "cell_type": "code",
   "execution_count": null,
   "id": "8bdca49c-109d-4550-8199-57a4a1594f6d",
   "metadata": {},
   "outputs": [],
   "source": [
    "# merged_df = pd.merge(total_syn_nonsyn_counts, ct_df, on='sample_ID')\n",
    "# merged_df"
   ]
  },
  {
   "cell_type": "code",
   "execution_count": null,
   "id": "ee2423ca-9878-419e-8407-7ae8921aa5d9",
   "metadata": {},
   "outputs": [],
   "source": [
    "# merged_df.to_csv('../Desktop/HPAI_PA/2025_03_04_total_syn_nonsyn_counts.tsv',sep='\\t', index=False)"
   ]
  },
  {
   "cell_type": "code",
   "execution_count": null,
   "id": "9cc44dff-5b64-4988-91da-4bf863143576",
   "metadata": {},
   "outputs": [],
   "source": [
    "# merged_df.columns"
   ]
  },
  {
   "cell_type": "code",
   "execution_count": null,
   "id": "ed763b7e-5f8f-4a39-ab18-bf122ce98ad5",
   "metadata": {},
   "outputs": [],
   "source": [
    "# fig = px.scatter(merged_df, x='ct_value', y=\"synonymous\", color = 'sample_ID', symbol = 'domestic_status', width=950, height=600)\n",
    "#                  #, symbol = 'domestic_status', color='Species')\n",
    "# fig.show()"
   ]
  },
  {
   "cell_type": "code",
   "execution_count": null,
   "id": "14bcc47b-a87d-46fa-b950-2676a4486ea9",
   "metadata": {},
   "outputs": [],
   "source": [
    "syn_nonsyn_counts.tail(35)"
   ]
  },
  {
   "cell_type": "code",
   "execution_count": null,
   "id": "f8521f04-eca3-4bfd-b321-60e01f5e121b",
   "metadata": {},
   "outputs": [],
   "source": [
    "plt.rc('font',**{'family':'sans-serif','sans-serif':['Helvetica']})\n",
    "plt.rc('text', usetex='false') \n",
    "plt.rcParams.update({'font.size': 18})"
   ]
  },
  {
   "cell_type": "code",
   "execution_count": null,
   "id": "f7107716-e038-4179-8133-69fa7300864c",
   "metadata": {},
   "outputs": [],
   "source": [
    "shared_vars.tail(30)"
   ]
  },
  {
   "cell_type": "code",
   "execution_count": null,
   "id": "ccecdd57-a15e-48a1-94a3-7c7f41a767d2",
   "metadata": {},
   "outputs": [],
   "source": [
    "grouped"
   ]
  },
  {
   "cell_type": "code",
   "execution_count": null,
   "id": "eb8c0876-ec12-4054-823f-8d8d273ffc42",
   "metadata": {},
   "outputs": [],
   "source": [
    "shared_vars['between_dilution'] = shared_vars['gene_pos'].duplicated(keep=False).map({True: 'shared', False: 'not_shared'})\n",
    "shared_vars\n",
    "\n",
    "# Example bin edges\n",
    "bins = [0.01, 0.015, 0.02, 0.025, 0.03, 0.04, 0.05, 0.1, float('inf')]\n",
    "labels = ['1-1.5%', '1.5-2%', '2-2.5%','2.5-5%', '3-4%', '4-5%', '5-10%', '>10%']\n",
    "shared_vars['freq_bin'] = pd.cut(shared_vars['avg_freq'], bins=bins, labels=labels, right=False)\n",
    "\n",
    "# Count occurrences of each category in each bin\n",
    "grouped = shared_vars.groupby(['freq_bin', 'between_dilution']).size().reset_index(name='count')\n",
    "\n",
    "# Normalize within each bin\n",
    "grouped['proportion'] = grouped.groupby('freq_bin')['count'].transform(lambda x: x / x.sum())\n",
    "\n",
    "\n",
    "# Pivot data for stacked bar chart\n",
    "pivot_df = grouped.pivot(index='freq_bin', columns='between_dilution', values='proportion').fillna(0)\n",
    "\n",
    "pivot_df = pivot_df[['shared', 'not_shared']]\n",
    "\n",
    "\n",
    "# Plot\n",
    "pivot_df.plot(kind='bar', stacked=True, figsize=(8, 6), colormap='Set2')\n",
    "\n",
    "plt.axhline(y=0.5, color='r', linestyle='--', label='y = 50%')\n",
    "\n",
    "\n",
    "plt.xlabel('Frequency (binned, %)')\n",
    "plt.ylabel('Proportion')\n",
    "plt.title('Stacked Proportions of SNVs shared between dilutions')\n",
    "plt.legend(title='SNV Type', loc='best')\n",
    "plt.tight_layout()\n",
    "plt.show()\n"
   ]
  },
  {
   "cell_type": "code",
   "execution_count": null,
   "id": "b436b2d0-e652-4294-a6e5-4b3be98b3db3",
   "metadata": {},
   "outputs": [],
   "source": [
    "##pulling out variants that appear in more than one sample\n",
    "\n",
    "# Assuming your dataframe is named 'df'\n",
    "duplicated_gene_pos = shared_vars[shared_vars['gene_pos'].duplicated()]\n",
    "\n",
    "# To get just the duplicated values in the 'gene_pos' column\n",
    "duplicated_values = shared_vars[shared_vars['gene_pos'].duplicated()]['gene_pos'].unique()\n",
    "\n",
    "# Print the duplicated values\n",
    "print(duplicated_values)"
   ]
  },
  {
   "cell_type": "code",
   "execution_count": null,
   "id": "97165a16-f362-4dc7-aa12-a7b3aad0b89b",
   "metadata": {},
   "outputs": [],
   "source": [
    "duplicated_values.tolist()"
   ]
  },
  {
   "cell_type": "code",
   "execution_count": null,
   "id": "231414be-0bbb-4015-8b3c-c5f436fd9a9a",
   "metadata": {},
   "outputs": [],
   "source": [
    "# Assuming your dataframe is named 'df' and the list of values is 'specific_values'\n",
    "specific_values = ['HA_64',\n",
    " 'HA_295',\n",
    " 'HA_467',\n",
    " 'NA_310',\n",
    " 'NA_434',\n",
    " 'NS1_34',\n",
    " 'NS1_139',\n",
    " 'NS1_156',\n",
    " 'PA_255',\n",
    " 'PA_632',\n",
    " 'PA_646',\n",
    " 'PB1_446',\n",
    " 'PB2_48',\n",
    " 'PB2_188',\n",
    " 'PB2_374',\n",
    " 'PB2_658',\n",
    " 'PB2_693',\n",
    " 'PB2_750',\n",
    " 'HA_330',\n",
    " 'HA_460',\n",
    " 'HA_551',\n",
    " 'NA_242',\n",
    " 'NS1_194',\n",
    " 'NS1_228',\n",
    " 'PA_280',\n",
    " 'PA_290',\n",
    " 'PA_529',\n",
    " 'PB1_152',\n",
    " 'PB1_195',\n",
    " 'PB1_200',\n",
    " 'PB1_473',\n",
    " 'PB1_704',\n",
    " 'PB1_729',\n",
    " 'PB2_87',\n",
    " 'PB2_272',\n",
    " 'PB2_565',\n",
    " 'PB2_611',\n",
    " 'HA_324',\n",
    " 'HA_404',\n",
    " 'HA_442',\n",
    " 'HA_503',\n",
    " 'HA_560',\n",
    " 'NA_89',\n",
    " 'NA_121',\n",
    " 'NA_191',\n",
    " 'NA_398',\n",
    " 'NA_400',\n",
    " 'NA_456',\n",
    " 'NS1_7',\n",
    " 'NS1_79',\n",
    " 'NS1_93',\n",
    " 'NS1_105',\n",
    " 'PA_383',\n",
    " 'PA_394',\n",
    " 'PA_416',\n",
    " 'PA_479',\n",
    " 'PB1_5',\n",
    " 'PB1_222',\n",
    " 'PB1_357',\n",
    " 'PB1_551',\n",
    " 'PB1_640',\n",
    " 'PB1_690',\n",
    " 'PB2_45',\n",
    " 'PB2_81',\n",
    " 'PB2_145',\n",
    " 'PB2_259',\n",
    " 'PB2_391',\n",
    " 'PB2_393',\n",
    " 'PB2_455',\n",
    " 'PB2_499',\n",
    " 'PB2_547',\n",
    " 'PB2_636',\n",
    " 'PB2_675']  # replace with your specific values\n",
    "\n",
    "# Filter the rows where 'gene_pos' is in the specific list of values\n",
    "filtered_rows = shared_vars[shared_vars['gene_pos'].isin(specific_values)]\n",
    "\n",
    "# Print the filtered rows\n",
    "print(filtered_rows)\n"
   ]
  },
  {
   "cell_type": "code",
   "execution_count": null,
   "id": "1e53e5c6-8542-4041-ad32-161ed5d87466",
   "metadata": {},
   "outputs": [],
   "source": [
    "print(filtered_rows['gene_pos'].nunique)"
   ]
  },
  {
   "cell_type": "code",
   "execution_count": null,
   "id": "4cd0c413-e3c9-40a9-9dab-7f66278885a5",
   "metadata": {},
   "outputs": [],
   "source": [
    "filtered_rows = filtered_rows.sort_values(by=[\"gene\", \"position\"], ascending=[False, True])\n",
    "filtered_rows"
   ]
  },
  {
   "cell_type": "code",
   "execution_count": null,
   "id": "91a285d3-5595-4139-8044-1f541bf95ba6",
   "metadata": {},
   "outputs": [],
   "source": [
    "filtered_rows['gene'].value_counts()"
   ]
  },
  {
   "cell_type": "code",
   "execution_count": null,
   "id": "85d16135-4068-4912-81a0-3168241f7bad",
   "metadata": {},
   "outputs": [],
   "source": []
  },
  {
   "cell_type": "code",
   "execution_count": null,
   "id": "b76ad6b2-a11e-4732-ac72-ff18b6c3ad16",
   "metadata": {},
   "outputs": [],
   "source": [
    "import matplotlib.pyplot as plt\n",
    "import seaborn as sns\n",
    "\n",
    "# # Filter the dataframe\n",
    "# pb1_shared = filtered_rows[filtered_rows[\"gene\"] == \"PB1\"]\n",
    "\n",
    "# Create the plot\n",
    "plt.figure(figsize=(14, 10))\n",
    "sns.scatterplot(data=filtered_rows, x=\"gene_pos\", y=\"avg_freq\", hue=\"syn_non\", palette=[\"#00A1C6\", \"#e8702a\",\"#0c457d\",\"#F5BF47\"],\n",
    "               s=75)\n",
    "\n",
    "# Formatting\n",
    "plt.xlabel(\"Gene Position\", fontsize=12)\n",
    "plt.ylabel(\"Frequency\", fontsize=12)\n",
    "plt.title(\"Frequency of SNVs shared across samples\", fontsize=14)\n",
    "plt.xticks(rotation=270, fontsize=12)\n",
    "plt.legend(bbox_to_anchor=(1.05, 1), loc='upper left')\n",
    "plt.ylim(0,0.16)\n",
    "# plt.yscale('log')\n",
    "\n",
    "# Show the plot\n",
    "plt.tight_layout()\n",
    "\n",
    "# plt.savefig('seq/analysis/figures/SNVs_shared_across_samples.pdf', dpi=300)\n",
    "plt.show()\n"
   ]
  },
  {
   "cell_type": "code",
   "execution_count": null,
   "id": "5b40a4b7-99bc-444d-952d-09782aebc2db",
   "metadata": {},
   "outputs": [],
   "source": [
    "filtered_rows.to_csv('seq/analysis/output_dfs/2025_05_19_shared_vars_stockcontrols_samples_geneposAA.tsv', sep='\\t', index=False)"
   ]
  },
  {
   "cell_type": "code",
   "execution_count": null,
   "id": "a8fb966b-cf67-43f6-a14e-69c689fdcb98",
   "metadata": {},
   "outputs": [],
   "source": [
    "db = pd.read_csv('seq/illumina-pipeline_old/curated_database.csv')\n",
    "db"
   ]
  },
  {
   "cell_type": "code",
   "execution_count": null,
   "id": "d914166c-3d3e-4063-963c-e91d805076b6",
   "metadata": {},
   "outputs": [],
   "source": [
    "db['Gene'] = db['Gene'].fillna(\"NA\")\n",
    "db = db.rename(columns={'Gene': 'gene'})\n",
    "db = db.rename(columns={'Amino_Acid': 'amino_acid'})\n",
    "\n",
    "db"
   ]
  },
  {
   "cell_type": "code",
   "execution_count": null,
   "id": "49387492-13ee-456d-a6d6-15a663ee7403",
   "metadata": {},
   "outputs": [],
   "source": [
    "db.info()"
   ]
  },
  {
   "cell_type": "code",
   "execution_count": null,
   "id": "0265df32-d3f1-4453-8a80-7abb8d302081",
   "metadata": {},
   "outputs": [],
   "source": [
    "# shared_vars['Amino_Acid'] = shared_vars['coding_region_change'].str.extract('(\\d+)')\n",
    "shared_vars['amino_acid'] = pd.to_numeric(shared_vars['amino_acid'], errors='coerce').astype('int64')\n"
   ]
  },
  {
   "cell_type": "code",
   "execution_count": null,
   "id": "fabb362f-479c-4877-9bca-2019ea6e3a33",
   "metadata": {},
   "outputs": [],
   "source": []
  },
  {
   "cell_type": "code",
   "execution_count": null,
   "id": "2211e81a-10b5-4c4e-bb7c-511689ad1d92",
   "metadata": {},
   "outputs": [],
   "source": [
    "df_merged = shared_vars.merge(db, on=['amino_acid', 'gene'], how='left')\n",
    "df_merged"
   ]
  },
  {
   "cell_type": "code",
   "execution_count": null,
   "id": "44414fb4-eedf-4eb3-9f96-33f6e450a822",
   "metadata": {},
   "outputs": [],
   "source": [
    "functional_snvs = df_merged[df_merged['Type'].notna()]\n",
    "functional_snvs"
   ]
  },
  {
   "cell_type": "code",
   "execution_count": null,
   "id": "05a140de-bb9e-425f-a65a-d406770df14d",
   "metadata": {},
   "outputs": [],
   "source": [
    "functional_snvs.to_csv('output_dfs/03_25_2025_functionalSNVs_allrepshared.tsv', sep='\\t', index=False)"
   ]
  },
  {
   "cell_type": "code",
   "execution_count": null,
   "id": "4a20c1b2-9d46-4289-ae18-305bddf65d0b",
   "metadata": {},
   "outputs": [],
   "source": [
    "shared_vars_dedupe.info()"
   ]
  },
  {
   "cell_type": "code",
   "execution_count": null,
   "id": "ac47f090-e79b-40e8-b0a5-7aedc8ac1c73",
   "metadata": {},
   "outputs": [],
   "source": [
    "shared_vars.to_csv('2025_01_23_lowfreq_vars_repshared_all_data_bothreps.tsv', sep='\\t', index=False)"
   ]
  }
 ],
 "metadata": {
  "kernelspec": {
   "display_name": "Python 3 (ipykernel)",
   "language": "python",
   "name": "python3"
  },
  "language_info": {
   "codemirror_mode": {
    "name": "ipython",
    "version": 3
   },
   "file_extension": ".py",
   "mimetype": "text/x-python",
   "name": "python",
   "nbconvert_exporter": "python",
   "pygments_lexer": "ipython3",
   "version": "3.12.10"
  }
 },
 "nbformat": 4,
 "nbformat_minor": 5
}
