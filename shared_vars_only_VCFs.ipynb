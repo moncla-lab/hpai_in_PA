{
 "cells": [
  {
   "cell_type": "code",
   "execution_count": 1,
   "id": "5bcd3a73-523d-4287-90ca-871f8d221d40",
   "metadata": {},
   "outputs": [
    {
     "name": "stdout",
     "output_type": "stream",
     "text": [
      "Processing replicates for sample: be_w1\n",
      "Created filtered VCF: /Users/asjaeger/Desktop/project_source/hpai_PA/seq/illumina-pipeline/for_SNPgenie/shared_vars_only_test/be_w1_replicate-1_shared.vcf\n",
      "Created filtered VCF: /Users/asjaeger/Desktop/project_source/hpai_PA/seq/illumina-pipeline/for_SNPgenie/shared_vars_only_test/be_w1_replicate-2_shared.vcf\n",
      "Filtering complete!\n"
     ]
    }
   ],
   "source": [
    "import os\n",
    "import glob\n",
    "\n",
    "# Define the directory where VCF files are stored\n",
    "vcf_directory = \"/Users/asjaeger/Desktop/project_source/hpai_PA/seq/illumina-pipeline/for_SNPgenie/shared_vars_only_test/\"\n",
    "\n",
    "# Find all VCF files\n",
    "vcf_files = glob.glob(os.path.join(vcf_directory, \"*.vcf\"))\n",
    "\n",
    "# Group files by sample type (without the replicate number)\n",
    "sample_groups = {}\n",
    "for vcf in vcf_files:\n",
    "    filename = os.path.basename(vcf)\n",
    "    base_sample = \"_\".join(filename.split(\"_\")[:-1])  # Remove replicate number\n",
    "    if base_sample not in sample_groups:\n",
    "        sample_groups[base_sample] = []\n",
    "    sample_groups[base_sample].append(vcf)\n",
    "\n",
    "# Function to parse VCF and extract variants\n",
    "def get_variants(vcf_file):\n",
    "    variants = set()\n",
    "    with open(vcf_file, \"r\") as infile:\n",
    "        for line in infile:\n",
    "            if not line.startswith(\"#\"):  # Ignore header lines\n",
    "                variant_info = \"\\t\".join(line.strip().split(\"\\t\")[:5])  # Use CHROM, POS, ID, REF, ALT as unique identifier\n",
    "                variants.add(variant_info)\n",
    "    return variants\n",
    "\n",
    "# Compare replicates and write new filtered VCFs\n",
    "for sample, replicates in sample_groups.items():\n",
    "    if len(replicates) > 1:  # Only process samples with replicates\n",
    "        print(f\"Processing replicates for sample: {sample}\")\n",
    "\n",
    "        # Get shared variants across replicates\n",
    "        shared_variants = get_variants(replicates[0])\n",
    "        for replicate in replicates[1:]:\n",
    "            shared_variants &= get_variants(replicate)  # Keep only common variants\n",
    "\n",
    "        # Create new filtered VCFs\n",
    "        for vcf in replicates:\n",
    "            output_file = vcf.replace(\".vcf\", \"_shared.vcf\")  # New VCF filename\n",
    "            with open(output_file, \"w\") as outfile, open(vcf, \"r\") as infile:\n",
    "                for line in infile:\n",
    "                    if line.startswith(\"#\"):\n",
    "                        outfile.write(line)  # Write header\n",
    "                    else:\n",
    "                        variant_info = \"\\t\".join(line.strip().split(\"\\t\")[:5])\n",
    "                        if variant_info in shared_variants:\n",
    "                            outfile.write(line)  # Write only shared variants\n",
    "\n",
    "            print(f\"Created filtered VCF: {output_file}\")\n",
    "\n",
    "print(\"Filtering complete!\")\n"
   ]
  }
 ],
 "metadata": {
  "kernelspec": {
   "display_name": "Python 3 (ipykernel)",
   "language": "python",
   "name": "python3"
  },
  "language_info": {
   "codemirror_mode": {
    "name": "ipython",
    "version": 3
   },
   "file_extension": ".py",
   "mimetype": "text/x-python",
   "name": "python",
   "nbconvert_exporter": "python",
   "pygments_lexer": "ipython3",
   "version": "3.12.2"
  }
 },
 "nbformat": 4,
 "nbformat_minor": 5
}
